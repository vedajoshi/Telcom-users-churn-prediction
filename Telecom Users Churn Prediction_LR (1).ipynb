{
 "cells": [
  {
   "cell_type": "markdown",
   "metadata": {},
   "source": [
    "# Prediction of churn rate for telecom users"
   ]
  },
  {
   "attachments": {
    "Customerschurnimage.png": {
     "image/png": "[encoded data removed]"
    }
   },
   "cell_type": "markdown",
   "metadata": {},
   "source": [
    "![Customerschurnimage.png](attachment:Customerschurnimage.png)"
   ]
  },
  {
   "cell_type": "markdown",
   "metadata": {},
   "source": [
    "![](Customerschurnimage.png)"
   ]
  },
  {
   "cell_type": "code",
   "execution_count": 378,
   "metadata": {},
   "outputs": [],
   "source": [
    "#IMPORTING THE LIBRARIES\n",
    "import pandas as pd\n",
    "import matplotlib.pyplot as plt\n",
    "import seaborn as sns"
   ]
  },
  {
   "cell_type": "code",
   "execution_count": 379,
   "metadata": {},
   "outputs": [],
   "source": [
    "#READING THE FILE\n",
    "df=pd.read_csv('C:\\\\Users\\\\user\\\\Downloads\\\\telecom_users.csv')"
   ]
  },
  {
   "cell_type": "code",
   "execution_count": 380,
   "metadata": {
    "scrolled": true
   },
   "outputs": [
    {
     "data": {
      "text/html": [
       "<div>\n",
       "<style scoped>\n",
       "    .dataframe tbody tr th:only-of-type {\n",
       "        vertical-align: middle;\n",
       "    }\n",
       "\n",
       "    .dataframe tbody tr th {\n",
       "        vertical-align: top;\n",
       "    }\n",
       "\n",
       "    .dataframe thead th {\n",
       "        text-align: right;\n",
       "    }\n",
       "</style>\n",
       "<table border=\"1\" class=\"dataframe\">\n",
       "  <thead>\n",
       "    <tr style=\"text-align: right;\">\n",
       "      <th></th>\n",
       "      <th>Unnamed: 0</th>\n",
       "      <th>customerID</th>\n",
       "      <th>gender</th>\n",
       "      <th>SeniorCitizen</th>\n",
       "      <th>Partner</th>\n",
       "      <th>Dependents</th>\n",
       "      <th>tenure</th>\n",
       "      <th>PhoneService</th>\n",
       "      <th>MultipleLines</th>\n",
       "      <th>InternetService</th>\n",
       "      <th>...</th>\n",
       "      <th>DeviceProtection</th>\n",
       "      <th>TechSupport</th>\n",
       "      <th>StreamingTV</th>\n",
       "      <th>StreamingMovies</th>\n",
       "      <th>Contract</th>\n",
       "      <th>PaperlessBilling</th>\n",
       "      <th>PaymentMethod</th>\n",
       "      <th>MonthlyCharges</th>\n",
       "      <th>TotalCharges</th>\n",
       "      <th>Churn</th>\n",
       "    </tr>\n",
       "  </thead>\n",
       "  <tbody>\n",
       "    <tr>\n",
       "      <th>0</th>\n",
       "      <td>1869</td>\n",
       "      <td>7010-BRBUU</td>\n",
       "      <td>Male</td>\n",
       "      <td>0</td>\n",
       "      <td>Yes</td>\n",
       "      <td>Yes</td>\n",
       "      <td>72</td>\n",
       "      <td>Yes</td>\n",
       "      <td>Yes</td>\n",
       "      <td>No</td>\n",
       "      <td>...</td>\n",
       "      <td>No internet service</td>\n",
       "      <td>No internet service</td>\n",
       "      <td>No internet service</td>\n",
       "      <td>No internet service</td>\n",
       "      <td>Two year</td>\n",
       "      <td>No</td>\n",
       "      <td>Credit card (automatic)</td>\n",
       "      <td>24.10</td>\n",
       "      <td>1734.65</td>\n",
       "      <td>No</td>\n",
       "    </tr>\n",
       "    <tr>\n",
       "      <th>1</th>\n",
       "      <td>4528</td>\n",
       "      <td>9688-YGXVR</td>\n",
       "      <td>Female</td>\n",
       "      <td>0</td>\n",
       "      <td>No</td>\n",
       "      <td>No</td>\n",
       "      <td>44</td>\n",
       "      <td>Yes</td>\n",
       "      <td>No</td>\n",
       "      <td>Fiber optic</td>\n",
       "      <td>...</td>\n",
       "      <td>Yes</td>\n",
       "      <td>No</td>\n",
       "      <td>Yes</td>\n",
       "      <td>No</td>\n",
       "      <td>Month-to-month</td>\n",
       "      <td>Yes</td>\n",
       "      <td>Credit card (automatic)</td>\n",
       "      <td>88.15</td>\n",
       "      <td>3973.2</td>\n",
       "      <td>No</td>\n",
       "    </tr>\n",
       "    <tr>\n",
       "      <th>2</th>\n",
       "      <td>6344</td>\n",
       "      <td>9286-DOJGF</td>\n",
       "      <td>Female</td>\n",
       "      <td>1</td>\n",
       "      <td>Yes</td>\n",
       "      <td>No</td>\n",
       "      <td>38</td>\n",
       "      <td>Yes</td>\n",
       "      <td>Yes</td>\n",
       "      <td>Fiber optic</td>\n",
       "      <td>...</td>\n",
       "      <td>No</td>\n",
       "      <td>No</td>\n",
       "      <td>No</td>\n",
       "      <td>No</td>\n",
       "      <td>Month-to-month</td>\n",
       "      <td>Yes</td>\n",
       "      <td>Bank transfer (automatic)</td>\n",
       "      <td>74.95</td>\n",
       "      <td>2869.85</td>\n",
       "      <td>Yes</td>\n",
       "    </tr>\n",
       "    <tr>\n",
       "      <th>3</th>\n",
       "      <td>6739</td>\n",
       "      <td>6994-KERXL</td>\n",
       "      <td>Male</td>\n",
       "      <td>0</td>\n",
       "      <td>No</td>\n",
       "      <td>No</td>\n",
       "      <td>4</td>\n",
       "      <td>Yes</td>\n",
       "      <td>No</td>\n",
       "      <td>DSL</td>\n",
       "      <td>...</td>\n",
       "      <td>No</td>\n",
       "      <td>No</td>\n",
       "      <td>No</td>\n",
       "      <td>Yes</td>\n",
       "      <td>Month-to-month</td>\n",
       "      <td>Yes</td>\n",
       "      <td>Electronic check</td>\n",
       "      <td>55.90</td>\n",
       "      <td>238.5</td>\n",
       "      <td>No</td>\n",
       "    </tr>\n",
       "    <tr>\n",
       "      <th>4</th>\n",
       "      <td>432</td>\n",
       "      <td>2181-UAESM</td>\n",
       "      <td>Male</td>\n",
       "      <td>0</td>\n",
       "      <td>No</td>\n",
       "      <td>No</td>\n",
       "      <td>2</td>\n",
       "      <td>Yes</td>\n",
       "      <td>No</td>\n",
       "      <td>DSL</td>\n",
       "      <td>...</td>\n",
       "      <td>Yes</td>\n",
       "      <td>No</td>\n",
       "      <td>No</td>\n",
       "      <td>No</td>\n",
       "      <td>Month-to-month</td>\n",
       "      <td>No</td>\n",
       "      <td>Electronic check</td>\n",
       "      <td>53.45</td>\n",
       "      <td>119.5</td>\n",
       "      <td>No</td>\n",
       "    </tr>\n",
       "  </tbody>\n",
       "</table>\n",
       "<p>5 rows × 22 columns</p>\n",
       "</div>"
      ],
      "text/plain": [
       "   Unnamed: 0  customerID  gender  SeniorCitizen Partner Dependents  tenure  \\\n",
       "0        1869  7010-BRBUU    Male              0     Yes        Yes      72   \n",
       "1        4528  9688-YGXVR  Female              0      No         No      44   \n",
       "2        6344  9286-DOJGF  Female              1     Yes         No      38   \n",
       "3        6739  6994-KERXL    Male              0      No         No       4   \n",
       "4         432  2181-UAESM    Male              0      No         No       2   \n",
       "\n",
       "  PhoneService MultipleLines InternetService  ...     DeviceProtection  \\\n",
       "0          Yes           Yes              No  ...  No internet service   \n",
       "1          Yes            No     Fiber optic  ...                  Yes   \n",
       "2          Yes           Yes     Fiber optic  ...                   No   \n",
       "3          Yes            No             DSL  ...                   No   \n",
       "4          Yes            No             DSL  ...                  Yes   \n",
       "\n",
       "           TechSupport          StreamingTV      StreamingMovies  \\\n",
       "0  No internet service  No internet service  No internet service   \n",
       "1                   No                  Yes                   No   \n",
       "2                   No                   No                   No   \n",
       "3                   No                   No                  Yes   \n",
       "4                   No                   No                   No   \n",
       "\n",
       "         Contract PaperlessBilling              PaymentMethod MonthlyCharges  \\\n",
       "0        Two year               No    Credit card (automatic)          24.10   \n",
       "1  Month-to-month              Yes    Credit card (automatic)          88.15   \n",
       "2  Month-to-month              Yes  Bank transfer (automatic)          74.95   \n",
       "3  Month-to-month              Yes           Electronic check          55.90   \n",
       "4  Month-to-month               No           Electronic check          53.45   \n",
       "\n",
       "  TotalCharges  Churn  \n",
       "0      1734.65     No  \n",
       "1       3973.2     No  \n",
       "2      2869.85    Yes  \n",
       "3        238.5     No  \n",
       "4        119.5     No  \n",
       "\n",
       "[5 rows x 22 columns]"
      ]
     },
     "execution_count": 380,
     "metadata": {},
     "output_type": "execute_result"
    }
   ],
   "source": [
    "#FIRST FIVE ROWS OF DATA\n",
    "df.head()"
   ]
  },
  {
   "cell_type": "code",
   "execution_count": 381,
   "metadata": {},
   "outputs": [
    {
     "data": {
      "text/plain": [
       "(5986, 22)"
      ]
     },
     "execution_count": 381,
     "metadata": {},
     "output_type": "execute_result"
    }
   ],
   "source": [
    "#NO.OF ROWS AND COLUMNS\n",
    "df.shape"
   ]
  },
  {
   "cell_type": "code",
   "execution_count": 382,
   "metadata": {},
   "outputs": [
    {
     "data": {
      "text/plain": [
       "Unnamed: 0          0\n",
       "customerID          0\n",
       "gender              0\n",
       "SeniorCitizen       0\n",
       "Partner             0\n",
       "Dependents          0\n",
       "tenure              0\n",
       "PhoneService        0\n",
       "MultipleLines       0\n",
       "InternetService     0\n",
       "OnlineSecurity      0\n",
       "OnlineBackup        0\n",
       "DeviceProtection    0\n",
       "TechSupport         0\n",
       "StreamingTV         0\n",
       "StreamingMovies     0\n",
       "Contract            0\n",
       "PaperlessBilling    0\n",
       "PaymentMethod       0\n",
       "MonthlyCharges      0\n",
       "TotalCharges        0\n",
       "Churn               0\n",
       "dtype: int64"
      ]
     },
     "execution_count": 382,
     "metadata": {},
     "output_type": "execute_result"
    }
   ],
   "source": [
    "#CHECKING FOR NULL VALUES\n",
    "df.isnull().sum()"
   ]
  },
  {
   "cell_type": "code",
   "execution_count": 383,
   "metadata": {},
   "outputs": [
    {
     "name": "stdout",
     "output_type": "stream",
     "text": [
      "<class 'pandas.core.frame.DataFrame'>\n",
      "RangeIndex: 5986 entries, 0 to 5985\n",
      "Data columns (total 22 columns):\n",
      " #   Column            Non-Null Count  Dtype  \n",
      "---  ------            --------------  -----  \n",
      " 0   Unnamed: 0        5986 non-null   int64  \n",
      " 1   customerID        5986 non-null   object \n",
      " 2   gender            5986 non-null   object \n",
      " 3   SeniorCitizen     5986 non-null   int64  \n",
      " 4   Partner           5986 non-null   object \n",
      " 5   Dependents        5986 non-null   object \n",
      " 6   tenure            5986 non-null   int64  \n",
      " 7   PhoneService      5986 non-null   object \n",
      " 8   MultipleLines     5986 non-null   object \n",
      " 9   InternetService   5986 non-null   object \n",
      " 10  OnlineSecurity    5986 non-null   object \n",
      " 11  OnlineBackup      5986 non-null   object \n",
      " 12  DeviceProtection  5986 non-null   object \n",
      " 13  TechSupport       5986 non-null   object \n",
      " 14  StreamingTV       5986 non-null   object \n",
      " 15  StreamingMovies   5986 non-null   object \n",
      " 16  Contract          5986 non-null   object \n",
      " 17  PaperlessBilling  5986 non-null   object \n",
      " 18  PaymentMethod     5986 non-null   object \n",
      " 19  MonthlyCharges    5986 non-null   float64\n",
      " 20  TotalCharges      5986 non-null   object \n",
      " 21  Churn             5986 non-null   object \n",
      "dtypes: float64(1), int64(3), object(18)\n",
      "memory usage: 1.0+ MB\n"
     ]
    }
   ],
   "source": [
    "#CHECKING DATA TYPES\n",
    "df.info()"
   ]
  },
  {
   "cell_type": "raw",
   "metadata": {},
   "source": [
    "We can see more data is in categorical format we need to convert it to numerical format\n",
    "Also Lets remove the feautures which are not required for the prediction"
   ]
  },
  {
   "cell_type": "code",
   "execution_count": 384,
   "metadata": {},
   "outputs": [],
   "source": [
    "df=df.drop(['Unnamed: 0','customerID'],axis=1)\n",
    "df=df.replace('No',0)\n",
    "df=df.replace('Yes',1)\n",
    "df=df.replace('No internet service',0)"
   ]
  },
  {
   "cell_type": "code",
   "execution_count": 385,
   "metadata": {},
   "outputs": [
    {
     "data": {
      "text/html": [
       "<div>\n",
       "<style scoped>\n",
       "    .dataframe tbody tr th:only-of-type {\n",
       "        vertical-align: middle;\n",
       "    }\n",
       "\n",
       "    .dataframe tbody tr th {\n",
       "        vertical-align: top;\n",
       "    }\n",
       "\n",
       "    .dataframe thead th {\n",
       "        text-align: right;\n",
       "    }\n",
       "</style>\n",
       "<table border=\"1\" class=\"dataframe\">\n",
       "  <thead>\n",
       "    <tr style=\"text-align: right;\">\n",
       "      <th></th>\n",
       "      <th>gender</th>\n",
       "      <th>SeniorCitizen</th>\n",
       "      <th>Partner</th>\n",
       "      <th>Dependents</th>\n",
       "      <th>tenure</th>\n",
       "      <th>PhoneService</th>\n",
       "      <th>MultipleLines</th>\n",
       "      <th>InternetService</th>\n",
       "      <th>OnlineSecurity</th>\n",
       "      <th>OnlineBackup</th>\n",
       "      <th>DeviceProtection</th>\n",
       "      <th>TechSupport</th>\n",
       "      <th>StreamingTV</th>\n",
       "      <th>StreamingMovies</th>\n",
       "      <th>Contract</th>\n",
       "      <th>PaperlessBilling</th>\n",
       "      <th>PaymentMethod</th>\n",
       "      <th>MonthlyCharges</th>\n",
       "      <th>TotalCharges</th>\n",
       "      <th>Churn</th>\n",
       "    </tr>\n",
       "  </thead>\n",
       "  <tbody>\n",
       "    <tr>\n",
       "      <th>0</th>\n",
       "      <td>Male</td>\n",
       "      <td>0</td>\n",
       "      <td>1</td>\n",
       "      <td>1</td>\n",
       "      <td>72</td>\n",
       "      <td>1</td>\n",
       "      <td>1</td>\n",
       "      <td>0</td>\n",
       "      <td>0</td>\n",
       "      <td>0</td>\n",
       "      <td>0</td>\n",
       "      <td>0</td>\n",
       "      <td>0</td>\n",
       "      <td>0</td>\n",
       "      <td>Two year</td>\n",
       "      <td>0</td>\n",
       "      <td>Credit card (automatic)</td>\n",
       "      <td>24.10</td>\n",
       "      <td>1734.65</td>\n",
       "      <td>0</td>\n",
       "    </tr>\n",
       "    <tr>\n",
       "      <th>1</th>\n",
       "      <td>Female</td>\n",
       "      <td>0</td>\n",
       "      <td>0</td>\n",
       "      <td>0</td>\n",
       "      <td>44</td>\n",
       "      <td>1</td>\n",
       "      <td>0</td>\n",
       "      <td>Fiber optic</td>\n",
       "      <td>0</td>\n",
       "      <td>1</td>\n",
       "      <td>1</td>\n",
       "      <td>0</td>\n",
       "      <td>1</td>\n",
       "      <td>0</td>\n",
       "      <td>Month-to-month</td>\n",
       "      <td>1</td>\n",
       "      <td>Credit card (automatic)</td>\n",
       "      <td>88.15</td>\n",
       "      <td>3973.2</td>\n",
       "      <td>0</td>\n",
       "    </tr>\n",
       "    <tr>\n",
       "      <th>2</th>\n",
       "      <td>Female</td>\n",
       "      <td>1</td>\n",
       "      <td>1</td>\n",
       "      <td>0</td>\n",
       "      <td>38</td>\n",
       "      <td>1</td>\n",
       "      <td>1</td>\n",
       "      <td>Fiber optic</td>\n",
       "      <td>0</td>\n",
       "      <td>0</td>\n",
       "      <td>0</td>\n",
       "      <td>0</td>\n",
       "      <td>0</td>\n",
       "      <td>0</td>\n",
       "      <td>Month-to-month</td>\n",
       "      <td>1</td>\n",
       "      <td>Bank transfer (automatic)</td>\n",
       "      <td>74.95</td>\n",
       "      <td>2869.85</td>\n",
       "      <td>1</td>\n",
       "    </tr>\n",
       "    <tr>\n",
       "      <th>3</th>\n",
       "      <td>Male</td>\n",
       "      <td>0</td>\n",
       "      <td>0</td>\n",
       "      <td>0</td>\n",
       "      <td>4</td>\n",
       "      <td>1</td>\n",
       "      <td>0</td>\n",
       "      <td>DSL</td>\n",
       "      <td>0</td>\n",
       "      <td>0</td>\n",
       "      <td>0</td>\n",
       "      <td>0</td>\n",
       "      <td>0</td>\n",
       "      <td>1</td>\n",
       "      <td>Month-to-month</td>\n",
       "      <td>1</td>\n",
       "      <td>Electronic check</td>\n",
       "      <td>55.90</td>\n",
       "      <td>238.5</td>\n",
       "      <td>0</td>\n",
       "    </tr>\n",
       "    <tr>\n",
       "      <th>4</th>\n",
       "      <td>Male</td>\n",
       "      <td>0</td>\n",
       "      <td>0</td>\n",
       "      <td>0</td>\n",
       "      <td>2</td>\n",
       "      <td>1</td>\n",
       "      <td>0</td>\n",
       "      <td>DSL</td>\n",
       "      <td>1</td>\n",
       "      <td>0</td>\n",
       "      <td>1</td>\n",
       "      <td>0</td>\n",
       "      <td>0</td>\n",
       "      <td>0</td>\n",
       "      <td>Month-to-month</td>\n",
       "      <td>0</td>\n",
       "      <td>Electronic check</td>\n",
       "      <td>53.45</td>\n",
       "      <td>119.5</td>\n",
       "      <td>0</td>\n",
       "    </tr>\n",
       "  </tbody>\n",
       "</table>\n",
       "</div>"
      ],
      "text/plain": [
       "   gender  SeniorCitizen  Partner  Dependents  tenure  PhoneService  \\\n",
       "0    Male              0        1           1      72             1   \n",
       "1  Female              0        0           0      44             1   \n",
       "2  Female              1        1           0      38             1   \n",
       "3    Male              0        0           0       4             1   \n",
       "4    Male              0        0           0       2             1   \n",
       "\n",
       "  MultipleLines InternetService  OnlineSecurity  OnlineBackup  \\\n",
       "0             1               0               0             0   \n",
       "1             0     Fiber optic               0             1   \n",
       "2             1     Fiber optic               0             0   \n",
       "3             0             DSL               0             0   \n",
       "4             0             DSL               1             0   \n",
       "\n",
       "   DeviceProtection  TechSupport  StreamingTV  StreamingMovies  \\\n",
       "0                 0            0            0                0   \n",
       "1                 1            0            1                0   \n",
       "2                 0            0            0                0   \n",
       "3                 0            0            0                1   \n",
       "4                 1            0            0                0   \n",
       "\n",
       "         Contract  PaperlessBilling              PaymentMethod  \\\n",
       "0        Two year                 0    Credit card (automatic)   \n",
       "1  Month-to-month                 1    Credit card (automatic)   \n",
       "2  Month-to-month                 1  Bank transfer (automatic)   \n",
       "3  Month-to-month                 1           Electronic check   \n",
       "4  Month-to-month                 0           Electronic check   \n",
       "\n",
       "   MonthlyCharges TotalCharges  Churn  \n",
       "0           24.10      1734.65      0  \n",
       "1           88.15       3973.2      0  \n",
       "2           74.95      2869.85      1  \n",
       "3           55.90        238.5      0  \n",
       "4           53.45        119.5      0  "
      ]
     },
     "execution_count": 385,
     "metadata": {},
     "output_type": "execute_result"
    }
   ],
   "source": [
    "df.head()"
   ]
  },
  {
   "cell_type": "code",
   "execution_count": 386,
   "metadata": {},
   "outputs": [],
   "source": [
    "df['gender']=df['gender'].replace('Male',1)\n",
    "df['gender']=df['gender'].replace('Female',0)"
   ]
  },
  {
   "cell_type": "code",
   "execution_count": 387,
   "metadata": {},
   "outputs": [
    {
     "data": {
      "text/plain": [
       "Fiber optic    2627\n",
       "DSL            2068\n",
       "0              1291\n",
       "Name: InternetService, dtype: int64"
      ]
     },
     "execution_count": 387,
     "metadata": {},
     "output_type": "execute_result"
    }
   ],
   "source": [
    "df['InternetService'].value_counts()"
   ]
  },
  {
   "cell_type": "code",
   "execution_count": 388,
   "metadata": {},
   "outputs": [],
   "source": [
    "df['InternetService']=df['InternetService'].replace('Fiber optic',2)\n",
    "df['InternetService']=df['InternetService'].replace('DSL',3)"
   ]
  },
  {
   "cell_type": "raw",
   "metadata": {},
   "source": [
    "Internet service:\n",
    "Fiber optic = 2\n",
    "DSL = 1"
   ]
  },
  {
   "cell_type": "code",
   "execution_count": 389,
   "metadata": {},
   "outputs": [
    {
     "data": {
      "text/plain": [
       "Month-to-month    3269\n",
       "Two year          1441\n",
       "One year          1276\n",
       "Name: Contract, dtype: int64"
      ]
     },
     "execution_count": 389,
     "metadata": {},
     "output_type": "execute_result"
    }
   ],
   "source": [
    "df['Contract'].value_counts()"
   ]
  },
  {
   "cell_type": "code",
   "execution_count": 390,
   "metadata": {},
   "outputs": [],
   "source": [
    "df['Contract']=df['Contract'].replace('Month-to-month',1)\n",
    "df['Contract']=df['Contract'].replace('Two year',24)\n",
    "df['Contract']=df['Contract'].replace('One year',12)"
   ]
  },
  {
   "cell_type": "raw",
   "metadata": {},
   "source": [
    "Contract:\n",
    "\n",
    "'Month-to-month' = 1\n",
    "'Two Year' = 24\n",
    "'One Year' = 12"
   ]
  },
  {
   "cell_type": "code",
   "execution_count": 391,
   "metadata": {},
   "outputs": [
    {
     "data": {
      "text/plain": [
       "Electronic check             2006\n",
       "Mailed check                 1369\n",
       "Bank transfer (automatic)    1308\n",
       "Credit card (automatic)      1303\n",
       "Name: PaymentMethod, dtype: int64"
      ]
     },
     "execution_count": 391,
     "metadata": {},
     "output_type": "execute_result"
    }
   ],
   "source": [
    "df['PaymentMethod'].value_counts()"
   ]
  },
  {
   "cell_type": "code",
   "execution_count": 392,
   "metadata": {},
   "outputs": [],
   "source": [
    "df['PaymentMethod']=df['PaymentMethod'].replace('Electronic check',1)\n",
    "df['PaymentMethod']=df['PaymentMethod'].replace('Mailed check',2)\n",
    "df['PaymentMethod']=df['PaymentMethod'].replace('Bank transfer (automatic)',3)\n",
    "df['PaymentMethod']=df['PaymentMethod'].replace('Credit card (automatic)',4)\n",
    "df['PaymentMethod'] = df['PaymentMethod'].replace('Credit card (automatic)', 4)\n",
    "df['MultipleLines'] = df['MultipleLines'].replace('No phone service', 0)"
   ]
  },
  {
   "cell_type": "code",
   "execution_count": 393,
   "metadata": {},
   "outputs": [
    {
     "data": {
      "text/html": [
       "<div>\n",
       "<style scoped>\n",
       "    .dataframe tbody tr th:only-of-type {\n",
       "        vertical-align: middle;\n",
       "    }\n",
       "\n",
       "    .dataframe tbody tr th {\n",
       "        vertical-align: top;\n",
       "    }\n",
       "\n",
       "    .dataframe thead th {\n",
       "        text-align: right;\n",
       "    }\n",
       "</style>\n",
       "<table border=\"1\" class=\"dataframe\">\n",
       "  <thead>\n",
       "    <tr style=\"text-align: right;\">\n",
       "      <th></th>\n",
       "      <th>gender</th>\n",
       "      <th>SeniorCitizen</th>\n",
       "      <th>Partner</th>\n",
       "      <th>Dependents</th>\n",
       "      <th>tenure</th>\n",
       "      <th>PhoneService</th>\n",
       "      <th>MultipleLines</th>\n",
       "      <th>InternetService</th>\n",
       "      <th>OnlineSecurity</th>\n",
       "      <th>OnlineBackup</th>\n",
       "      <th>DeviceProtection</th>\n",
       "      <th>TechSupport</th>\n",
       "      <th>StreamingTV</th>\n",
       "      <th>StreamingMovies</th>\n",
       "      <th>Contract</th>\n",
       "      <th>PaperlessBilling</th>\n",
       "      <th>PaymentMethod</th>\n",
       "      <th>MonthlyCharges</th>\n",
       "      <th>TotalCharges</th>\n",
       "      <th>Churn</th>\n",
       "    </tr>\n",
       "  </thead>\n",
       "  <tbody>\n",
       "    <tr>\n",
       "      <th>0</th>\n",
       "      <td>1</td>\n",
       "      <td>0</td>\n",
       "      <td>1</td>\n",
       "      <td>1</td>\n",
       "      <td>72</td>\n",
       "      <td>1</td>\n",
       "      <td>1</td>\n",
       "      <td>0</td>\n",
       "      <td>0</td>\n",
       "      <td>0</td>\n",
       "      <td>0</td>\n",
       "      <td>0</td>\n",
       "      <td>0</td>\n",
       "      <td>0</td>\n",
       "      <td>24</td>\n",
       "      <td>0</td>\n",
       "      <td>4</td>\n",
       "      <td>24.10</td>\n",
       "      <td>1734.65</td>\n",
       "      <td>0</td>\n",
       "    </tr>\n",
       "    <tr>\n",
       "      <th>1</th>\n",
       "      <td>0</td>\n",
       "      <td>0</td>\n",
       "      <td>0</td>\n",
       "      <td>0</td>\n",
       "      <td>44</td>\n",
       "      <td>1</td>\n",
       "      <td>0</td>\n",
       "      <td>2</td>\n",
       "      <td>0</td>\n",
       "      <td>1</td>\n",
       "      <td>1</td>\n",
       "      <td>0</td>\n",
       "      <td>1</td>\n",
       "      <td>0</td>\n",
       "      <td>1</td>\n",
       "      <td>1</td>\n",
       "      <td>4</td>\n",
       "      <td>88.15</td>\n",
       "      <td>3973.2</td>\n",
       "      <td>0</td>\n",
       "    </tr>\n",
       "    <tr>\n",
       "      <th>2</th>\n",
       "      <td>0</td>\n",
       "      <td>1</td>\n",
       "      <td>1</td>\n",
       "      <td>0</td>\n",
       "      <td>38</td>\n",
       "      <td>1</td>\n",
       "      <td>1</td>\n",
       "      <td>2</td>\n",
       "      <td>0</td>\n",
       "      <td>0</td>\n",
       "      <td>0</td>\n",
       "      <td>0</td>\n",
       "      <td>0</td>\n",
       "      <td>0</td>\n",
       "      <td>1</td>\n",
       "      <td>1</td>\n",
       "      <td>3</td>\n",
       "      <td>74.95</td>\n",
       "      <td>2869.85</td>\n",
       "      <td>1</td>\n",
       "    </tr>\n",
       "    <tr>\n",
       "      <th>3</th>\n",
       "      <td>1</td>\n",
       "      <td>0</td>\n",
       "      <td>0</td>\n",
       "      <td>0</td>\n",
       "      <td>4</td>\n",
       "      <td>1</td>\n",
       "      <td>0</td>\n",
       "      <td>3</td>\n",
       "      <td>0</td>\n",
       "      <td>0</td>\n",
       "      <td>0</td>\n",
       "      <td>0</td>\n",
       "      <td>0</td>\n",
       "      <td>1</td>\n",
       "      <td>1</td>\n",
       "      <td>1</td>\n",
       "      <td>1</td>\n",
       "      <td>55.90</td>\n",
       "      <td>238.5</td>\n",
       "      <td>0</td>\n",
       "    </tr>\n",
       "    <tr>\n",
       "      <th>4</th>\n",
       "      <td>1</td>\n",
       "      <td>0</td>\n",
       "      <td>0</td>\n",
       "      <td>0</td>\n",
       "      <td>2</td>\n",
       "      <td>1</td>\n",
       "      <td>0</td>\n",
       "      <td>3</td>\n",
       "      <td>1</td>\n",
       "      <td>0</td>\n",
       "      <td>1</td>\n",
       "      <td>0</td>\n",
       "      <td>0</td>\n",
       "      <td>0</td>\n",
       "      <td>1</td>\n",
       "      <td>0</td>\n",
       "      <td>1</td>\n",
       "      <td>53.45</td>\n",
       "      <td>119.5</td>\n",
       "      <td>0</td>\n",
       "    </tr>\n",
       "  </tbody>\n",
       "</table>\n",
       "</div>"
      ],
      "text/plain": [
       "   gender  SeniorCitizen  Partner  Dependents  tenure  PhoneService  \\\n",
       "0       1              0        1           1      72             1   \n",
       "1       0              0        0           0      44             1   \n",
       "2       0              1        1           0      38             1   \n",
       "3       1              0        0           0       4             1   \n",
       "4       1              0        0           0       2             1   \n",
       "\n",
       "   MultipleLines  InternetService  OnlineSecurity  OnlineBackup  \\\n",
       "0              1                0               0             0   \n",
       "1              0                2               0             1   \n",
       "2              1                2               0             0   \n",
       "3              0                3               0             0   \n",
       "4              0                3               1             0   \n",
       "\n",
       "   DeviceProtection  TechSupport  StreamingTV  StreamingMovies  Contract  \\\n",
       "0                 0            0            0                0        24   \n",
       "1                 1            0            1                0         1   \n",
       "2                 0            0            0                0         1   \n",
       "3                 0            0            0                1         1   \n",
       "4                 1            0            0                0         1   \n",
       "\n",
       "   PaperlessBilling  PaymentMethod  MonthlyCharges TotalCharges  Churn  \n",
       "0                 0              4           24.10      1734.65      0  \n",
       "1                 1              4           88.15       3973.2      0  \n",
       "2                 1              3           74.95      2869.85      1  \n",
       "3                 1              1           55.90        238.5      0  \n",
       "4                 0              1           53.45        119.5      0  "
      ]
     },
     "execution_count": 393,
     "metadata": {},
     "output_type": "execute_result"
    }
   ],
   "source": [
    "df.head()"
   ]
  },
  {
   "cell_type": "code",
   "execution_count": 394,
   "metadata": {},
   "outputs": [
    {
     "data": {
      "text/plain": [
       "gender                int64\n",
       "SeniorCitizen         int64\n",
       "Partner               int64\n",
       "Dependents            int64\n",
       "tenure                int64\n",
       "PhoneService          int64\n",
       "MultipleLines         int64\n",
       "InternetService       int64\n",
       "OnlineSecurity        int64\n",
       "OnlineBackup          int64\n",
       "DeviceProtection      int64\n",
       "TechSupport           int64\n",
       "StreamingTV           int64\n",
       "StreamingMovies       int64\n",
       "Contract              int64\n",
       "PaperlessBilling      int64\n",
       "PaymentMethod         int64\n",
       "MonthlyCharges      float64\n",
       "TotalCharges         object\n",
       "Churn                 int64\n",
       "dtype: object"
      ]
     },
     "execution_count": 394,
     "metadata": {},
     "output_type": "execute_result"
    }
   ],
   "source": [
    "df.dtypes"
   ]
  },
  {
   "cell_type": "code",
   "execution_count": 406,
   "metadata": {},
   "outputs": [],
   "source": [
    "df['MultipleLines'] = df['MultipleLines'].astype(int)\n",
    "df['MonthlyCharges'] = df['MonthlyCharges'].astype(int)\n",
    "df['TotalCharges'] = df['TotalCharges'].astype(str)"
   ]
  },
  {
   "cell_type": "code",
   "execution_count": 401,
   "metadata": {},
   "outputs": [
    {
     "data": {
      "text/plain": [
       "19      61\n",
       "20      59\n",
       "69      38\n",
       "70      31\n",
       "45      29\n",
       "        ..\n",
       "2791     1\n",
       "6885     1\n",
       "738      1\n",
       "734      1\n",
       "2067     1\n",
       "Name: TotalCharges, Length: 3508, dtype: int64"
      ]
     },
     "execution_count": 401,
     "metadata": {},
     "output_type": "execute_result"
    }
   ],
   "source": [
    "df['TotalCharges'].value_counts()"
   ]
  },
  {
   "cell_type": "code",
   "execution_count": 408,
   "metadata": {},
   "outputs": [],
   "source": [
    "df['TotalCharges'] = df['TotalCharges'].replace(' ', 0)\n",
    "df['TotalCharges'] = df['TotalCharges'].astype(float)\n",
    "total_charge = df['TotalCharges']"
   ]
  },
  {
   "cell_type": "code",
   "execution_count": 409,
   "metadata": {},
   "outputs": [
    {
     "name": "stderr",
     "output_type": "stream",
     "text": [
      "<ipython-input-409-439e908c9b46>:2: SettingWithCopyWarning: \n",
      "A value is trying to be set on a copy of a slice from a DataFrame\n",
      "\n",
      "See the caveats in the documentation: https://pandas.pydata.org/pandas-docs/stable/user_guide/indexing.html#returning-a-view-versus-a-copy\n",
      "  total_charge[i] = int(total_charge[i])\n"
     ]
    }
   ],
   "source": [
    "for i in range(0, len(df)-1):\n",
    "    total_charge[i] = int(total_charge[i])\n",
    "df['TotalCharges'] = df['TotalCharges'].astype(int)"
   ]
  },
  {
   "cell_type": "code",
   "execution_count": 410,
   "metadata": {},
   "outputs": [
    {
     "data": {
      "text/html": [
       "<div>\n",
       "<style scoped>\n",
       "    .dataframe tbody tr th:only-of-type {\n",
       "        vertical-align: middle;\n",
       "    }\n",
       "\n",
       "    .dataframe tbody tr th {\n",
       "        vertical-align: top;\n",
       "    }\n",
       "\n",
       "    .dataframe thead th {\n",
       "        text-align: right;\n",
       "    }\n",
       "</style>\n",
       "<table border=\"1\" class=\"dataframe\">\n",
       "  <thead>\n",
       "    <tr style=\"text-align: right;\">\n",
       "      <th></th>\n",
       "      <th>gender</th>\n",
       "      <th>SeniorCitizen</th>\n",
       "      <th>Partner</th>\n",
       "      <th>Dependents</th>\n",
       "      <th>tenure</th>\n",
       "      <th>PhoneService</th>\n",
       "      <th>MultipleLines</th>\n",
       "      <th>InternetService</th>\n",
       "      <th>OnlineSecurity</th>\n",
       "      <th>OnlineBackup</th>\n",
       "      <th>DeviceProtection</th>\n",
       "      <th>TechSupport</th>\n",
       "      <th>StreamingTV</th>\n",
       "      <th>StreamingMovies</th>\n",
       "      <th>Contract</th>\n",
       "      <th>PaperlessBilling</th>\n",
       "      <th>PaymentMethod</th>\n",
       "      <th>MonthlyCharges</th>\n",
       "      <th>TotalCharges</th>\n",
       "      <th>Churn</th>\n",
       "    </tr>\n",
       "  </thead>\n",
       "  <tbody>\n",
       "    <tr>\n",
       "      <th>0</th>\n",
       "      <td>1</td>\n",
       "      <td>0</td>\n",
       "      <td>1</td>\n",
       "      <td>1</td>\n",
       "      <td>72</td>\n",
       "      <td>1</td>\n",
       "      <td>1</td>\n",
       "      <td>0</td>\n",
       "      <td>0</td>\n",
       "      <td>0</td>\n",
       "      <td>0</td>\n",
       "      <td>0</td>\n",
       "      <td>0</td>\n",
       "      <td>0</td>\n",
       "      <td>24</td>\n",
       "      <td>0</td>\n",
       "      <td>4</td>\n",
       "      <td>24</td>\n",
       "      <td>1734</td>\n",
       "      <td>0</td>\n",
       "    </tr>\n",
       "    <tr>\n",
       "      <th>1</th>\n",
       "      <td>0</td>\n",
       "      <td>0</td>\n",
       "      <td>0</td>\n",
       "      <td>0</td>\n",
       "      <td>44</td>\n",
       "      <td>1</td>\n",
       "      <td>0</td>\n",
       "      <td>2</td>\n",
       "      <td>0</td>\n",
       "      <td>1</td>\n",
       "      <td>1</td>\n",
       "      <td>0</td>\n",
       "      <td>1</td>\n",
       "      <td>0</td>\n",
       "      <td>1</td>\n",
       "      <td>1</td>\n",
       "      <td>4</td>\n",
       "      <td>88</td>\n",
       "      <td>3973</td>\n",
       "      <td>0</td>\n",
       "    </tr>\n",
       "    <tr>\n",
       "      <th>2</th>\n",
       "      <td>0</td>\n",
       "      <td>1</td>\n",
       "      <td>1</td>\n",
       "      <td>0</td>\n",
       "      <td>38</td>\n",
       "      <td>1</td>\n",
       "      <td>1</td>\n",
       "      <td>2</td>\n",
       "      <td>0</td>\n",
       "      <td>0</td>\n",
       "      <td>0</td>\n",
       "      <td>0</td>\n",
       "      <td>0</td>\n",
       "      <td>0</td>\n",
       "      <td>1</td>\n",
       "      <td>1</td>\n",
       "      <td>3</td>\n",
       "      <td>74</td>\n",
       "      <td>2869</td>\n",
       "      <td>1</td>\n",
       "    </tr>\n",
       "    <tr>\n",
       "      <th>3</th>\n",
       "      <td>1</td>\n",
       "      <td>0</td>\n",
       "      <td>0</td>\n",
       "      <td>0</td>\n",
       "      <td>4</td>\n",
       "      <td>1</td>\n",
       "      <td>0</td>\n",
       "      <td>3</td>\n",
       "      <td>0</td>\n",
       "      <td>0</td>\n",
       "      <td>0</td>\n",
       "      <td>0</td>\n",
       "      <td>0</td>\n",
       "      <td>1</td>\n",
       "      <td>1</td>\n",
       "      <td>1</td>\n",
       "      <td>1</td>\n",
       "      <td>55</td>\n",
       "      <td>238</td>\n",
       "      <td>0</td>\n",
       "    </tr>\n",
       "    <tr>\n",
       "      <th>4</th>\n",
       "      <td>1</td>\n",
       "      <td>0</td>\n",
       "      <td>0</td>\n",
       "      <td>0</td>\n",
       "      <td>2</td>\n",
       "      <td>1</td>\n",
       "      <td>0</td>\n",
       "      <td>3</td>\n",
       "      <td>1</td>\n",
       "      <td>0</td>\n",
       "      <td>1</td>\n",
       "      <td>0</td>\n",
       "      <td>0</td>\n",
       "      <td>0</td>\n",
       "      <td>1</td>\n",
       "      <td>0</td>\n",
       "      <td>1</td>\n",
       "      <td>53</td>\n",
       "      <td>119</td>\n",
       "      <td>0</td>\n",
       "    </tr>\n",
       "  </tbody>\n",
       "</table>\n",
       "</div>"
      ],
      "text/plain": [
       "   gender  SeniorCitizen  Partner  Dependents  tenure  PhoneService  \\\n",
       "0       1              0        1           1      72             1   \n",
       "1       0              0        0           0      44             1   \n",
       "2       0              1        1           0      38             1   \n",
       "3       1              0        0           0       4             1   \n",
       "4       1              0        0           0       2             1   \n",
       "\n",
       "   MultipleLines  InternetService  OnlineSecurity  OnlineBackup  \\\n",
       "0              1                0               0             0   \n",
       "1              0                2               0             1   \n",
       "2              1                2               0             0   \n",
       "3              0                3               0             0   \n",
       "4              0                3               1             0   \n",
       "\n",
       "   DeviceProtection  TechSupport  StreamingTV  StreamingMovies  Contract  \\\n",
       "0                 0            0            0                0        24   \n",
       "1                 1            0            1                0         1   \n",
       "2                 0            0            0                0         1   \n",
       "3                 0            0            0                1         1   \n",
       "4                 1            0            0                0         1   \n",
       "\n",
       "   PaperlessBilling  PaymentMethod  MonthlyCharges  TotalCharges  Churn  \n",
       "0                 0              4              24          1734      0  \n",
       "1                 1              4              88          3973      0  \n",
       "2                 1              3              74          2869      1  \n",
       "3                 1              1              55           238      0  \n",
       "4                 0              1              53           119      0  "
      ]
     },
     "execution_count": 410,
     "metadata": {},
     "output_type": "execute_result"
    }
   ],
   "source": [
    "df.head()"
   ]
  },
  {
   "cell_type": "code",
   "execution_count": 411,
   "metadata": {},
   "outputs": [
    {
     "data": {
      "text/plain": [
       "gender              int64\n",
       "SeniorCitizen       int64\n",
       "Partner             int64\n",
       "Dependents          int64\n",
       "tenure              int64\n",
       "PhoneService        int64\n",
       "MultipleLines       int32\n",
       "InternetService     int64\n",
       "OnlineSecurity      int64\n",
       "OnlineBackup        int64\n",
       "DeviceProtection    int64\n",
       "TechSupport         int64\n",
       "StreamingTV         int64\n",
       "StreamingMovies     int64\n",
       "Contract            int64\n",
       "PaperlessBilling    int64\n",
       "PaymentMethod       int64\n",
       "MonthlyCharges      int32\n",
       "TotalCharges        int32\n",
       "Churn               int64\n",
       "dtype: object"
      ]
     },
     "execution_count": 411,
     "metadata": {},
     "output_type": "execute_result"
    }
   ],
   "source": [
    "df.dtypes"
   ]
  },
  {
   "cell_type": "code",
   "execution_count": 412,
   "metadata": {},
   "outputs": [
    {
     "name": "stdout",
     "output_type": "stream",
     "text": [
      "<class 'pandas.core.frame.DataFrame'>\n",
      "RangeIndex: 5986 entries, 0 to 5985\n",
      "Data columns (total 20 columns):\n",
      " #   Column            Non-Null Count  Dtype\n",
      "---  ------            --------------  -----\n",
      " 0   gender            5986 non-null   int64\n",
      " 1   SeniorCitizen     5986 non-null   int64\n",
      " 2   Partner           5986 non-null   int64\n",
      " 3   Dependents        5986 non-null   int64\n",
      " 4   tenure            5986 non-null   int64\n",
      " 5   PhoneService      5986 non-null   int64\n",
      " 6   MultipleLines     5986 non-null   int32\n",
      " 7   InternetService   5986 non-null   int64\n",
      " 8   OnlineSecurity    5986 non-null   int64\n",
      " 9   OnlineBackup      5986 non-null   int64\n",
      " 10  DeviceProtection  5986 non-null   int64\n",
      " 11  TechSupport       5986 non-null   int64\n",
      " 12  StreamingTV       5986 non-null   int64\n",
      " 13  StreamingMovies   5986 non-null   int64\n",
      " 14  Contract          5986 non-null   int64\n",
      " 15  PaperlessBilling  5986 non-null   int64\n",
      " 16  PaymentMethod     5986 non-null   int64\n",
      " 17  MonthlyCharges    5986 non-null   int32\n",
      " 18  TotalCharges      5986 non-null   int32\n",
      " 19  Churn             5986 non-null   int64\n",
      "dtypes: int32(3), int64(17)\n",
      "memory usage: 865.3 KB\n"
     ]
    }
   ],
   "source": [
    "df.info()"
   ]
  },
  {
   "cell_type": "raw",
   "metadata": {},
   "source": [
    "NOW THE DATA IS CLEANED AND THERE ARE NO NULL VALUES ALSO ALL THE VALUES ARE IN NUMERICAL FORMAT"
   ]
  },
  {
   "cell_type": "code",
   "execution_count": 413,
   "metadata": {},
   "outputs": [
    {
     "data": {
      "text/plain": [
       "<AxesSubplot:xlabel='Partner', ylabel='MonthlyCharges'>"
      ]
     },
     "execution_count": 413,
     "metadata": {},
     "output_type": "execute_result"
    },
    {
     "data": {
      "image/png": "[encoded data removed]",
      "text/plain": [
       "<Figure size 432x288 with 1 Axes>"
      ]
     },
     "metadata": {
      "needs_background": "light"
     },
     "output_type": "display_data"
    }
   ],
   "source": [
    "sns.barplot(x='Partner', y='MonthlyCharges', data=df)"
   ]
  },
  {
   "cell_type": "code",
   "execution_count": 414,
   "metadata": {},
   "outputs": [
    {
     "data": {
      "text/plain": [
       "Text(0.5, 0, 'female-male')"
      ]
     },
     "execution_count": 414,
     "metadata": {},
     "output_type": "execute_result"
    },
    {
     "data": {
      "image/png": "[encoded data removed]",
      "text/plain": [
       "<Figure size 432x288 with 1 Axes>"
      ]
     },
     "metadata": {
      "needs_background": "light"
     },
     "output_type": "display_data"
    }
   ],
   "source": [
    "sns.barplot(x='gender',y='PhoneService',data=df)\n",
    "plt.xlabel('female-male')"
   ]
  },
  {
   "cell_type": "code",
   "execution_count": 415,
   "metadata": {},
   "outputs": [
    {
     "data": {
      "text/plain": [
       "Text(0.5, 0, 'Non Senior-Senior')"
      ]
     },
     "execution_count": 415,
     "metadata": {},
     "output_type": "execute_result"
    },
    {
     "data": {
      "image/png": "[encoded data removed]",
      "text/plain": [
       "<Figure size 432x288 with 1 Axes>"
      ]
     },
     "metadata": {
      "needs_background": "light"
     },
     "output_type": "display_data"
    }
   ],
   "source": [
    "sns.barplot(x='SeniorCitizen',y='MonthlyCharges',data=df)\n",
    "plt.xlabel('Non Senior-Senior')"
   ]
  },
  {
   "cell_type": "code",
   "execution_count": 416,
   "metadata": {},
   "outputs": [
    {
     "data": {
      "text/plain": [
       "Text(0.5, 0, 'No Internet - DSL - Fiber optic')"
      ]
     },
     "execution_count": 416,
     "metadata": {},
     "output_type": "execute_result"
    },
    {
     "data": {
      "image/png": "[encoded data removed]",
      "text/plain": [
       "<Figure size 432x288 with 1 Axes>"
      ]
     },
     "metadata": {
      "needs_background": "light"
     },
     "output_type": "display_data"
    }
   ],
   "source": [
    "sns.barplot(x='InternetService', y='MonthlyCharges', data=df)\n",
    "plt.xlabel('No Internet - DSL - Fiber optic')"
   ]
  },
  {
   "cell_type": "raw",
   "metadata": {},
   "source": [
    "Having a partner or not having a partner does not effect the monthly charges that much, the effect is very minimal.\n",
    "Contract year effects monthly costs. The contract with the most length has the lowest prices because of the commitment of the\n",
    "customer.\n",
    "Senior citizens pays more than non senior citizens. That might be because younger people use more internet so their contracts\n",
    "have more throughput.\n",
    "Fiber optic is the fastest and most reliable internet right now. It is not surprise that it is the most expensive one."
   ]
  },
  {
   "cell_type": "markdown",
   "metadata": {},
   "source": [
    "Prediction"
   ]
  },
  {
   "cell_type": "code",
   "execution_count": 417,
   "metadata": {},
   "outputs": [
    {
     "data": {
      "text/html": [
       "<div>\n",
       "<style scoped>\n",
       "    .dataframe tbody tr th:only-of-type {\n",
       "        vertical-align: middle;\n",
       "    }\n",
       "\n",
       "    .dataframe tbody tr th {\n",
       "        vertical-align: top;\n",
       "    }\n",
       "\n",
       "    .dataframe thead th {\n",
       "        text-align: right;\n",
       "    }\n",
       "</style>\n",
       "<table border=\"1\" class=\"dataframe\">\n",
       "  <thead>\n",
       "    <tr style=\"text-align: right;\">\n",
       "      <th></th>\n",
       "      <th>gender</th>\n",
       "      <th>SeniorCitizen</th>\n",
       "      <th>Partner</th>\n",
       "      <th>Dependents</th>\n",
       "      <th>tenure</th>\n",
       "      <th>PhoneService</th>\n",
       "      <th>MultipleLines</th>\n",
       "      <th>InternetService</th>\n",
       "      <th>OnlineSecurity</th>\n",
       "      <th>OnlineBackup</th>\n",
       "      <th>DeviceProtection</th>\n",
       "      <th>TechSupport</th>\n",
       "      <th>StreamingTV</th>\n",
       "      <th>StreamingMovies</th>\n",
       "      <th>Contract</th>\n",
       "      <th>PaperlessBilling</th>\n",
       "      <th>PaymentMethod</th>\n",
       "      <th>MonthlyCharges</th>\n",
       "      <th>TotalCharges</th>\n",
       "      <th>Churn</th>\n",
       "    </tr>\n",
       "  </thead>\n",
       "  <tbody>\n",
       "    <tr>\n",
       "      <th>gender</th>\n",
       "      <td>1.000000</td>\n",
       "      <td>-0.007447</td>\n",
       "      <td>-0.007791</td>\n",
       "      <td>0.009083</td>\n",
       "      <td>0.003207</td>\n",
       "      <td>-0.004913</td>\n",
       "      <td>-0.000853</td>\n",
       "      <td>-0.000642</td>\n",
       "      <td>-0.022042</td>\n",
       "      <td>-0.018858</td>\n",
       "      <td>-0.004975</td>\n",
       "      <td>-0.010327</td>\n",
       "      <td>-0.009585</td>\n",
       "      <td>-0.008748</td>\n",
       "      <td>-0.002198</td>\n",
       "      <td>-0.013990</td>\n",
       "      <td>-0.007894</td>\n",
       "      <td>-0.014566</td>\n",
       "      <td>-0.003661</td>\n",
       "      <td>-0.009548</td>\n",
       "    </tr>\n",
       "    <tr>\n",
       "      <th>SeniorCitizen</th>\n",
       "      <td>-0.007447</td>\n",
       "      <td>1.000000</td>\n",
       "      <td>0.014867</td>\n",
       "      <td>-0.214233</td>\n",
       "      <td>0.005468</td>\n",
       "      <td>0.009464</td>\n",
       "      <td>0.132999</td>\n",
       "      <td>0.091977</td>\n",
       "      <td>-0.037615</td>\n",
       "      <td>0.063561</td>\n",
       "      <td>0.061565</td>\n",
       "      <td>-0.061045</td>\n",
       "      <td>0.102519</td>\n",
       "      <td>0.116841</td>\n",
       "      <td>-0.149106</td>\n",
       "      <td>0.155691</td>\n",
       "      <td>-0.095515</td>\n",
       "      <td>0.219351</td>\n",
       "      <td>0.093807</td>\n",
       "      <td>0.150097</td>\n",
       "    </tr>\n",
       "    <tr>\n",
       "      <th>Partner</th>\n",
       "      <td>-0.007791</td>\n",
       "      <td>0.014867</td>\n",
       "      <td>1.000000</td>\n",
       "      <td>0.449029</td>\n",
       "      <td>0.381976</td>\n",
       "      <td>0.024926</td>\n",
       "      <td>0.149325</td>\n",
       "      <td>-0.005076</td>\n",
       "      <td>0.153067</td>\n",
       "      <td>0.149407</td>\n",
       "      <td>0.152803</td>\n",
       "      <td>0.125468</td>\n",
       "      <td>0.130013</td>\n",
       "      <td>0.120763</td>\n",
       "      <td>0.299910</td>\n",
       "      <td>-0.018037</td>\n",
       "      <td>0.141066</td>\n",
       "      <td>0.104010</td>\n",
       "      <td>0.321348</td>\n",
       "      <td>-0.146840</td>\n",
       "    </tr>\n",
       "    <tr>\n",
       "      <th>Dependents</th>\n",
       "      <td>0.009083</td>\n",
       "      <td>-0.214233</td>\n",
       "      <td>0.449029</td>\n",
       "      <td>1.000000</td>\n",
       "      <td>0.163710</td>\n",
       "      <td>-0.000579</td>\n",
       "      <td>-0.022399</td>\n",
       "      <td>-0.085301</td>\n",
       "      <td>0.085138</td>\n",
       "      <td>0.021946</td>\n",
       "      <td>0.009334</td>\n",
       "      <td>0.067460</td>\n",
       "      <td>-0.018705</td>\n",
       "      <td>-0.038750</td>\n",
       "      <td>0.245775</td>\n",
       "      <td>-0.112405</td>\n",
       "      <td>0.135491</td>\n",
       "      <td>-0.115946</td>\n",
       "      <td>0.062692</td>\n",
       "      <td>-0.160204</td>\n",
       "    </tr>\n",
       "    <tr>\n",
       "      <th>tenure</th>\n",
       "      <td>0.003207</td>\n",
       "      <td>0.005468</td>\n",
       "      <td>0.381976</td>\n",
       "      <td>0.163710</td>\n",
       "      <td>1.000000</td>\n",
       "      <td>0.010392</td>\n",
       "      <td>0.339181</td>\n",
       "      <td>0.036685</td>\n",
       "      <td>0.331981</td>\n",
       "      <td>0.358248</td>\n",
       "      <td>0.364085</td>\n",
       "      <td>0.329410</td>\n",
       "      <td>0.284979</td>\n",
       "      <td>0.297389</td>\n",
       "      <td>0.669871</td>\n",
       "      <td>0.006569</td>\n",
       "      <td>0.333857</td>\n",
       "      <td>0.256963</td>\n",
       "      <td>0.827756</td>\n",
       "      <td>-0.348469</td>\n",
       "    </tr>\n",
       "    <tr>\n",
       "      <th>PhoneService</th>\n",
       "      <td>-0.004913</td>\n",
       "      <td>0.009464</td>\n",
       "      <td>0.024926</td>\n",
       "      <td>-0.000579</td>\n",
       "      <td>0.010392</td>\n",
       "      <td>1.000000</td>\n",
       "      <td>0.284667</td>\n",
       "      <td>-0.327669</td>\n",
       "      <td>-0.089481</td>\n",
       "      <td>-0.049382</td>\n",
       "      <td>-0.072536</td>\n",
       "      <td>-0.090169</td>\n",
       "      <td>-0.022703</td>\n",
       "      <td>-0.030394</td>\n",
       "      <td>0.005412</td>\n",
       "      <td>0.021340</td>\n",
       "      <td>-0.008743</td>\n",
       "      <td>0.250874</td>\n",
       "      <td>0.117165</td>\n",
       "      <td>0.009421</td>\n",
       "    </tr>\n",
       "    <tr>\n",
       "      <th>MultipleLines</th>\n",
       "      <td>-0.000853</td>\n",
       "      <td>0.132999</td>\n",
       "      <td>0.149325</td>\n",
       "      <td>-0.022399</td>\n",
       "      <td>0.339181</td>\n",
       "      <td>0.284667</td>\n",
       "      <td>1.000000</td>\n",
       "      <td>0.068693</td>\n",
       "      <td>0.103793</td>\n",
       "      <td>0.209348</td>\n",
       "      <td>0.203705</td>\n",
       "      <td>0.105362</td>\n",
       "      <td>0.253013</td>\n",
       "      <td>0.262018</td>\n",
       "      <td>0.111371</td>\n",
       "      <td>0.169139</td>\n",
       "      <td>0.035500</td>\n",
       "      <td>0.494639</td>\n",
       "      <td>0.475213</td>\n",
       "      <td>0.036342</td>\n",
       "    </tr>\n",
       "    <tr>\n",
       "      <th>InternetService</th>\n",
       "      <td>-0.000642</td>\n",
       "      <td>0.091977</td>\n",
       "      <td>-0.005076</td>\n",
       "      <td>-0.085301</td>\n",
       "      <td>0.036685</td>\n",
       "      <td>-0.327669</td>\n",
       "      <td>0.068693</td>\n",
       "      <td>1.000000</td>\n",
       "      <td>0.385570</td>\n",
       "      <td>0.357051</td>\n",
       "      <td>0.348838</td>\n",
       "      <td>0.384743</td>\n",
       "      <td>0.319535</td>\n",
       "      <td>0.329277</td>\n",
       "      <td>-0.158931</td>\n",
       "      <td>0.213808</td>\n",
       "      <td>-0.046947</td>\n",
       "      <td>0.501225</td>\n",
       "      <td>0.258309</td>\n",
       "      <td>0.115797</td>\n",
       "    </tr>\n",
       "    <tr>\n",
       "      <th>OnlineSecurity</th>\n",
       "      <td>-0.022042</td>\n",
       "      <td>-0.037615</td>\n",
       "      <td>0.153067</td>\n",
       "      <td>0.085138</td>\n",
       "      <td>0.331981</td>\n",
       "      <td>-0.089481</td>\n",
       "      <td>0.103793</td>\n",
       "      <td>0.385570</td>\n",
       "      <td>1.000000</td>\n",
       "      <td>0.286817</td>\n",
       "      <td>0.283300</td>\n",
       "      <td>0.352356</td>\n",
       "      <td>0.187675</td>\n",
       "      <td>0.198972</td>\n",
       "      <td>0.244694</td>\n",
       "      <td>0.004057</td>\n",
       "      <td>0.155867</td>\n",
       "      <td>0.303558</td>\n",
       "      <td>0.417388</td>\n",
       "      <td>-0.174301</td>\n",
       "    </tr>\n",
       "    <tr>\n",
       "      <th>OnlineBackup</th>\n",
       "      <td>-0.018858</td>\n",
       "      <td>0.063561</td>\n",
       "      <td>0.149407</td>\n",
       "      <td>0.021946</td>\n",
       "      <td>0.358248</td>\n",
       "      <td>-0.049382</td>\n",
       "      <td>0.209348</td>\n",
       "      <td>0.357051</td>\n",
       "      <td>0.286817</td>\n",
       "      <td>1.000000</td>\n",
       "      <td>0.307406</td>\n",
       "      <td>0.289065</td>\n",
       "      <td>0.283627</td>\n",
       "      <td>0.283952</td>\n",
       "      <td>0.153415</td>\n",
       "      <td>0.124097</td>\n",
       "      <td>0.093187</td>\n",
       "      <td>0.445699</td>\n",
       "      <td>0.506819</td>\n",
       "      <td>-0.082648</td>\n",
       "    </tr>\n",
       "    <tr>\n",
       "      <th>DeviceProtection</th>\n",
       "      <td>-0.004975</td>\n",
       "      <td>0.061565</td>\n",
       "      <td>0.152803</td>\n",
       "      <td>0.009334</td>\n",
       "      <td>0.364085</td>\n",
       "      <td>-0.072536</td>\n",
       "      <td>0.203705</td>\n",
       "      <td>0.348838</td>\n",
       "      <td>0.283300</td>\n",
       "      <td>0.307406</td>\n",
       "      <td>1.000000</td>\n",
       "      <td>0.333756</td>\n",
       "      <td>0.387768</td>\n",
       "      <td>0.410320</td>\n",
       "      <td>0.224016</td>\n",
       "      <td>0.105015</td>\n",
       "      <td>0.121750</td>\n",
       "      <td>0.481679</td>\n",
       "      <td>0.522103</td>\n",
       "      <td>-0.070000</td>\n",
       "    </tr>\n",
       "    <tr>\n",
       "      <th>TechSupport</th>\n",
       "      <td>-0.010327</td>\n",
       "      <td>-0.061045</td>\n",
       "      <td>0.125468</td>\n",
       "      <td>0.067460</td>\n",
       "      <td>0.329410</td>\n",
       "      <td>-0.090169</td>\n",
       "      <td>0.105362</td>\n",
       "      <td>0.384743</td>\n",
       "      <td>0.352356</td>\n",
       "      <td>0.289065</td>\n",
       "      <td>0.333756</td>\n",
       "      <td>1.000000</td>\n",
       "      <td>0.282697</td>\n",
       "      <td>0.284555</td>\n",
       "      <td>0.297283</td>\n",
       "      <td>0.037001</td>\n",
       "      <td>0.164237</td>\n",
       "      <td>0.341494</td>\n",
       "      <td>0.437070</td>\n",
       "      <td>-0.161821</td>\n",
       "    </tr>\n",
       "    <tr>\n",
       "      <th>StreamingTV</th>\n",
       "      <td>-0.009585</td>\n",
       "      <td>0.102519</td>\n",
       "      <td>0.130013</td>\n",
       "      <td>-0.018705</td>\n",
       "      <td>0.284979</td>\n",
       "      <td>-0.022703</td>\n",
       "      <td>0.253013</td>\n",
       "      <td>0.319535</td>\n",
       "      <td>0.187675</td>\n",
       "      <td>0.283627</td>\n",
       "      <td>0.387768</td>\n",
       "      <td>0.282697</td>\n",
       "      <td>1.000000</td>\n",
       "      <td>0.533960</td>\n",
       "      <td>0.107949</td>\n",
       "      <td>0.225319</td>\n",
       "      <td>-0.014035</td>\n",
       "      <td>0.628592</td>\n",
       "      <td>0.516855</td>\n",
       "      <td>0.060379</td>\n",
       "    </tr>\n",
       "    <tr>\n",
       "      <th>StreamingMovies</th>\n",
       "      <td>-0.008748</td>\n",
       "      <td>0.116841</td>\n",
       "      <td>0.120763</td>\n",
       "      <td>-0.038750</td>\n",
       "      <td>0.297389</td>\n",
       "      <td>-0.030394</td>\n",
       "      <td>0.262018</td>\n",
       "      <td>0.329277</td>\n",
       "      <td>0.198972</td>\n",
       "      <td>0.283952</td>\n",
       "      <td>0.410320</td>\n",
       "      <td>0.284555</td>\n",
       "      <td>0.533960</td>\n",
       "      <td>1.000000</td>\n",
       "      <td>0.113803</td>\n",
       "      <td>0.210501</td>\n",
       "      <td>-0.000459</td>\n",
       "      <td>0.628312</td>\n",
       "      <td>0.527862</td>\n",
       "      <td>0.058865</td>\n",
       "    </tr>\n",
       "    <tr>\n",
       "      <th>Contract</th>\n",
       "      <td>-0.002198</td>\n",
       "      <td>-0.149106</td>\n",
       "      <td>0.299910</td>\n",
       "      <td>0.245775</td>\n",
       "      <td>0.669871</td>\n",
       "      <td>0.005412</td>\n",
       "      <td>0.111371</td>\n",
       "      <td>-0.158931</td>\n",
       "      <td>0.244694</td>\n",
       "      <td>0.153415</td>\n",
       "      <td>0.224016</td>\n",
       "      <td>0.297283</td>\n",
       "      <td>0.107949</td>\n",
       "      <td>0.113803</td>\n",
       "      <td>1.000000</td>\n",
       "      <td>-0.182923</td>\n",
       "      <td>0.354853</td>\n",
       "      <td>-0.068840</td>\n",
       "      <td>0.447216</td>\n",
       "      <td>-0.394207</td>\n",
       "    </tr>\n",
       "    <tr>\n",
       "      <th>PaperlessBilling</th>\n",
       "      <td>-0.013990</td>\n",
       "      <td>0.155691</td>\n",
       "      <td>-0.018037</td>\n",
       "      <td>-0.112405</td>\n",
       "      <td>0.006569</td>\n",
       "      <td>0.021340</td>\n",
       "      <td>0.169139</td>\n",
       "      <td>0.213808</td>\n",
       "      <td>0.004057</td>\n",
       "      <td>0.124097</td>\n",
       "      <td>0.105015</td>\n",
       "      <td>0.037001</td>\n",
       "      <td>0.225319</td>\n",
       "      <td>0.210501</td>\n",
       "      <td>-0.182923</td>\n",
       "      <td>1.000000</td>\n",
       "      <td>-0.106746</td>\n",
       "      <td>0.355767</td>\n",
       "      <td>0.162803</td>\n",
       "      <td>0.188996</td>\n",
       "    </tr>\n",
       "    <tr>\n",
       "      <th>PaymentMethod</th>\n",
       "      <td>-0.007894</td>\n",
       "      <td>-0.095515</td>\n",
       "      <td>0.141066</td>\n",
       "      <td>0.135491</td>\n",
       "      <td>0.333857</td>\n",
       "      <td>-0.008743</td>\n",
       "      <td>0.035500</td>\n",
       "      <td>-0.046947</td>\n",
       "      <td>0.155867</td>\n",
       "      <td>0.093187</td>\n",
       "      <td>0.121750</td>\n",
       "      <td>0.164237</td>\n",
       "      <td>-0.014035</td>\n",
       "      <td>-0.000459</td>\n",
       "      <td>0.354853</td>\n",
       "      <td>-0.106746</td>\n",
       "      <td>1.000000</td>\n",
       "      <td>-0.072722</td>\n",
       "      <td>0.217646</td>\n",
       "      <td>-0.259263</td>\n",
       "    </tr>\n",
       "    <tr>\n",
       "      <th>MonthlyCharges</th>\n",
       "      <td>-0.014566</td>\n",
       "      <td>0.219351</td>\n",
       "      <td>0.104010</td>\n",
       "      <td>-0.115946</td>\n",
       "      <td>0.256963</td>\n",
       "      <td>0.250874</td>\n",
       "      <td>0.494639</td>\n",
       "      <td>0.501225</td>\n",
       "      <td>0.303558</td>\n",
       "      <td>0.445699</td>\n",
       "      <td>0.481679</td>\n",
       "      <td>0.341494</td>\n",
       "      <td>0.628592</td>\n",
       "      <td>0.628312</td>\n",
       "      <td>-0.068840</td>\n",
       "      <td>0.355767</td>\n",
       "      <td>-0.072722</td>\n",
       "      <td>1.000000</td>\n",
       "      <td>0.656797</td>\n",
       "      <td>0.186924</td>\n",
       "    </tr>\n",
       "    <tr>\n",
       "      <th>TotalCharges</th>\n",
       "      <td>-0.003661</td>\n",
       "      <td>0.093807</td>\n",
       "      <td>0.321348</td>\n",
       "      <td>0.062692</td>\n",
       "      <td>0.827756</td>\n",
       "      <td>0.117165</td>\n",
       "      <td>0.475213</td>\n",
       "      <td>0.258309</td>\n",
       "      <td>0.417388</td>\n",
       "      <td>0.506819</td>\n",
       "      <td>0.522103</td>\n",
       "      <td>0.437070</td>\n",
       "      <td>0.516855</td>\n",
       "      <td>0.527862</td>\n",
       "      <td>0.447216</td>\n",
       "      <td>0.162803</td>\n",
       "      <td>0.217646</td>\n",
       "      <td>0.656797</td>\n",
       "      <td>1.000000</td>\n",
       "      <td>-0.196391</td>\n",
       "    </tr>\n",
       "    <tr>\n",
       "      <th>Churn</th>\n",
       "      <td>-0.009548</td>\n",
       "      <td>0.150097</td>\n",
       "      <td>-0.146840</td>\n",
       "      <td>-0.160204</td>\n",
       "      <td>-0.348469</td>\n",
       "      <td>0.009421</td>\n",
       "      <td>0.036342</td>\n",
       "      <td>0.115797</td>\n",
       "      <td>-0.174301</td>\n",
       "      <td>-0.082648</td>\n",
       "      <td>-0.070000</td>\n",
       "      <td>-0.161821</td>\n",
       "      <td>0.060379</td>\n",
       "      <td>0.058865</td>\n",
       "      <td>-0.394207</td>\n",
       "      <td>0.188996</td>\n",
       "      <td>-0.259263</td>\n",
       "      <td>0.186924</td>\n",
       "      <td>-0.196391</td>\n",
       "      <td>1.000000</td>\n",
       "    </tr>\n",
       "  </tbody>\n",
       "</table>\n",
       "</div>"
      ],
      "text/plain": [
       "                    gender  SeniorCitizen   Partner  Dependents    tenure  \\\n",
       "gender            1.000000      -0.007447 -0.007791    0.009083  0.003207   \n",
       "SeniorCitizen    -0.007447       1.000000  0.014867   -0.214233  0.005468   \n",
       "Partner          -0.007791       0.014867  1.000000    0.449029  0.381976   \n",
       "Dependents        0.009083      -0.214233  0.449029    1.000000  0.163710   \n",
       "tenure            0.003207       0.005468  0.381976    0.163710  1.000000   \n",
       "PhoneService     -0.004913       0.009464  0.024926   -0.000579  0.010392   \n",
       "MultipleLines    -0.000853       0.132999  0.149325   -0.022399  0.339181   \n",
       "InternetService  -0.000642       0.091977 -0.005076   -0.085301  0.036685   \n",
       "OnlineSecurity   -0.022042      -0.037615  0.153067    0.085138  0.331981   \n",
       "OnlineBackup     -0.018858       0.063561  0.149407    0.021946  0.358248   \n",
       "DeviceProtection -0.004975       0.061565  0.152803    0.009334  0.364085   \n",
       "TechSupport      -0.010327      -0.061045  0.125468    0.067460  0.329410   \n",
       "StreamingTV      -0.009585       0.102519  0.130013   -0.018705  0.284979   \n",
       "StreamingMovies  -0.008748       0.116841  0.120763   -0.038750  0.297389   \n",
       "Contract         -0.002198      -0.149106  0.299910    0.245775  0.669871   \n",
       "PaperlessBilling -0.013990       0.155691 -0.018037   -0.112405  0.006569   \n",
       "PaymentMethod    -0.007894      -0.095515  0.141066    0.135491  0.333857   \n",
       "MonthlyCharges   -0.014566       0.219351  0.104010   -0.115946  0.256963   \n",
       "TotalCharges     -0.003661       0.093807  0.321348    0.062692  0.827756   \n",
       "Churn            -0.009548       0.150097 -0.146840   -0.160204 -0.348469   \n",
       "\n",
       "                  PhoneService  MultipleLines  InternetService  \\\n",
       "gender               -0.004913      -0.000853        -0.000642   \n",
       "SeniorCitizen         0.009464       0.132999         0.091977   \n",
       "Partner               0.024926       0.149325        -0.005076   \n",
       "Dependents           -0.000579      -0.022399        -0.085301   \n",
       "tenure                0.010392       0.339181         0.036685   \n",
       "PhoneService          1.000000       0.284667        -0.327669   \n",
       "MultipleLines         0.284667       1.000000         0.068693   \n",
       "InternetService      -0.327669       0.068693         1.000000   \n",
       "OnlineSecurity       -0.089481       0.103793         0.385570   \n",
       "OnlineBackup         -0.049382       0.209348         0.357051   \n",
       "DeviceProtection     -0.072536       0.203705         0.348838   \n",
       "TechSupport          -0.090169       0.105362         0.384743   \n",
       "StreamingTV          -0.022703       0.253013         0.319535   \n",
       "StreamingMovies      -0.030394       0.262018         0.329277   \n",
       "Contract              0.005412       0.111371        -0.158931   \n",
       "PaperlessBilling      0.021340       0.169139         0.213808   \n",
       "PaymentMethod        -0.008743       0.035500        -0.046947   \n",
       "MonthlyCharges        0.250874       0.494639         0.501225   \n",
       "TotalCharges          0.117165       0.475213         0.258309   \n",
       "Churn                 0.009421       0.036342         0.115797   \n",
       "\n",
       "                  OnlineSecurity  OnlineBackup  DeviceProtection  TechSupport  \\\n",
       "gender                 -0.022042     -0.018858         -0.004975    -0.010327   \n",
       "SeniorCitizen          -0.037615      0.063561          0.061565    -0.061045   \n",
       "Partner                 0.153067      0.149407          0.152803     0.125468   \n",
       "Dependents              0.085138      0.021946          0.009334     0.067460   \n",
       "tenure                  0.331981      0.358248          0.364085     0.329410   \n",
       "PhoneService           -0.089481     -0.049382         -0.072536    -0.090169   \n",
       "MultipleLines           0.103793      0.209348          0.203705     0.105362   \n",
       "InternetService         0.385570      0.357051          0.348838     0.384743   \n",
       "OnlineSecurity          1.000000      0.286817          0.283300     0.352356   \n",
       "OnlineBackup            0.286817      1.000000          0.307406     0.289065   \n",
       "DeviceProtection        0.283300      0.307406          1.000000     0.333756   \n",
       "TechSupport             0.352356      0.289065          0.333756     1.000000   \n",
       "StreamingTV             0.187675      0.283627          0.387768     0.282697   \n",
       "StreamingMovies         0.198972      0.283952          0.410320     0.284555   \n",
       "Contract                0.244694      0.153415          0.224016     0.297283   \n",
       "PaperlessBilling        0.004057      0.124097          0.105015     0.037001   \n",
       "PaymentMethod           0.155867      0.093187          0.121750     0.164237   \n",
       "MonthlyCharges          0.303558      0.445699          0.481679     0.341494   \n",
       "TotalCharges            0.417388      0.506819          0.522103     0.437070   \n",
       "Churn                  -0.174301     -0.082648         -0.070000    -0.161821   \n",
       "\n",
       "                  StreamingTV  StreamingMovies  Contract  PaperlessBilling  \\\n",
       "gender              -0.009585        -0.008748 -0.002198         -0.013990   \n",
       "SeniorCitizen        0.102519         0.116841 -0.149106          0.155691   \n",
       "Partner              0.130013         0.120763  0.299910         -0.018037   \n",
       "Dependents          -0.018705        -0.038750  0.245775         -0.112405   \n",
       "tenure               0.284979         0.297389  0.669871          0.006569   \n",
       "PhoneService        -0.022703        -0.030394  0.005412          0.021340   \n",
       "MultipleLines        0.253013         0.262018  0.111371          0.169139   \n",
       "InternetService      0.319535         0.329277 -0.158931          0.213808   \n",
       "OnlineSecurity       0.187675         0.198972  0.244694          0.004057   \n",
       "OnlineBackup         0.283627         0.283952  0.153415          0.124097   \n",
       "DeviceProtection     0.387768         0.410320  0.224016          0.105015   \n",
       "TechSupport          0.282697         0.284555  0.297283          0.037001   \n",
       "StreamingTV          1.000000         0.533960  0.107949          0.225319   \n",
       "StreamingMovies      0.533960         1.000000  0.113803          0.210501   \n",
       "Contract             0.107949         0.113803  1.000000         -0.182923   \n",
       "PaperlessBilling     0.225319         0.210501 -0.182923          1.000000   \n",
       "PaymentMethod       -0.014035        -0.000459  0.354853         -0.106746   \n",
       "MonthlyCharges       0.628592         0.628312 -0.068840          0.355767   \n",
       "TotalCharges         0.516855         0.527862  0.447216          0.162803   \n",
       "Churn                0.060379         0.058865 -0.394207          0.188996   \n",
       "\n",
       "                  PaymentMethod  MonthlyCharges  TotalCharges     Churn  \n",
       "gender                -0.007894       -0.014566     -0.003661 -0.009548  \n",
       "SeniorCitizen         -0.095515        0.219351      0.093807  0.150097  \n",
       "Partner                0.141066        0.104010      0.321348 -0.146840  \n",
       "Dependents             0.135491       -0.115946      0.062692 -0.160204  \n",
       "tenure                 0.333857        0.256963      0.827756 -0.348469  \n",
       "PhoneService          -0.008743        0.250874      0.117165  0.009421  \n",
       "MultipleLines          0.035500        0.494639      0.475213  0.036342  \n",
       "InternetService       -0.046947        0.501225      0.258309  0.115797  \n",
       "OnlineSecurity         0.155867        0.303558      0.417388 -0.174301  \n",
       "OnlineBackup           0.093187        0.445699      0.506819 -0.082648  \n",
       "DeviceProtection       0.121750        0.481679      0.522103 -0.070000  \n",
       "TechSupport            0.164237        0.341494      0.437070 -0.161821  \n",
       "StreamingTV           -0.014035        0.628592      0.516855  0.060379  \n",
       "StreamingMovies       -0.000459        0.628312      0.527862  0.058865  \n",
       "Contract               0.354853       -0.068840      0.447216 -0.394207  \n",
       "PaperlessBilling      -0.106746        0.355767      0.162803  0.188996  \n",
       "PaymentMethod          1.000000       -0.072722      0.217646 -0.259263  \n",
       "MonthlyCharges        -0.072722        1.000000      0.656797  0.186924  \n",
       "TotalCharges           0.217646        0.656797      1.000000 -0.196391  \n",
       "Churn                 -0.259263        0.186924     -0.196391  1.000000  "
      ]
     },
     "execution_count": 417,
     "metadata": {},
     "output_type": "execute_result"
    }
   ],
   "source": [
    "corr = df.corr()\n",
    "corr.T"
   ]
  },
  {
   "cell_type": "code",
   "execution_count": 418,
   "metadata": {},
   "outputs": [
    {
     "data": {
      "text/plain": [
       "(5986, 20)"
      ]
     },
     "execution_count": 418,
     "metadata": {},
     "output_type": "execute_result"
    }
   ],
   "source": [
    "df.shape"
   ]
  },
  {
   "cell_type": "code",
   "execution_count": 419,
   "metadata": {},
   "outputs": [
    {
     "data": {
      "image/png": "[encoded data removed]",
      "text/plain": [
       "<Figure size 2160x720 with 2 Axes>"
      ]
     },
     "metadata": {
      "needs_background": "light"
     },
     "output_type": "display_data"
    }
   ],
   "source": [
    "plt.figure(figsize=(30,10))\n",
    "sns.heatmap(corr, cmap='coolwarm', annot = True)\n",
    "plt.show()"
   ]
  },
  {
   "cell_type": "code",
   "execution_count": 420,
   "metadata": {},
   "outputs": [],
   "source": [
    "from sklearn.model_selection import train_test_split\n",
    "from sklearn.metrics import classification_report\n",
    "from sklearn import metrics"
   ]
  },
  {
   "cell_type": "code",
   "execution_count": 421,
   "metadata": {},
   "outputs": [
    {
     "data": {
      "text/plain": [
       "0    4399\n",
       "1    1587\n",
       "Name: Churn, dtype: int64"
      ]
     },
     "execution_count": 421,
     "metadata": {},
     "output_type": "execute_result"
    }
   ],
   "source": [
    "df['Churn'].value_counts()"
   ]
  },
  {
   "cell_type": "code",
   "execution_count": 422,
   "metadata": {},
   "outputs": [],
   "source": [
    "import seaborn as sns"
   ]
  },
  {
   "cell_type": "code",
   "execution_count": 423,
   "metadata": {},
   "outputs": [
    {
     "data": {
      "text/plain": [
       "<AxesSubplot:xlabel='Churn', ylabel='count'>"
      ]
     },
     "execution_count": 423,
     "metadata": {},
     "output_type": "execute_result"
    },
    {
     "data": {
      "image/png": "[encoded data removed]",
      "text/plain": [
       "<Figure size 432x288 with 1 Axes>"
      ]
     },
     "metadata": {
      "needs_background": "light"
     },
     "output_type": "display_data"
    }
   ],
   "source": [
    "sns.countplot(x='Churn',data=df)"
   ]
  },
  {
   "cell_type": "raw",
   "metadata": {},
   "source": [
    "We can see that the above data is imbalanced"
   ]
  },
  {
   "cell_type": "raw",
   "metadata": {},
   "source": [
    "Splitting of X and Y"
   ]
  },
  {
   "cell_type": "code",
   "execution_count": 424,
   "metadata": {},
   "outputs": [],
   "source": [
    "X=df.drop('Churn',axis=1)\n",
    "Y=df.Churn"
   ]
  },
  {
   "cell_type": "code",
   "execution_count": 425,
   "metadata": {},
   "outputs": [],
   "source": [
    "from imblearn.combine import SMOTETomek\n",
    "#from imblearn.under_sampling import NearMiss"
   ]
  },
  {
   "cell_type": "code",
   "execution_count": 426,
   "metadata": {},
   "outputs": [],
   "source": [
    "# Implementing Oversampling for Handling Imbalanced \n",
    "smk = SMOTETomek(random_state=42)\n",
    "X_res,y_res=smk.fit_resample(X,Y)"
   ]
  },
  {
   "cell_type": "code",
   "execution_count": 427,
   "metadata": {},
   "outputs": [
    {
     "data": {
      "text/plain": [
       "((8152, 19), (8152,))"
      ]
     },
     "execution_count": 427,
     "metadata": {},
     "output_type": "execute_result"
    }
   ],
   "source": [
    "X_res.shape,y_res.shape"
   ]
  },
  {
   "cell_type": "code",
   "execution_count": 428,
   "metadata": {},
   "outputs": [
    {
     "name": "stdout",
     "output_type": "stream",
     "text": [
      "Original dataset shape Counter({0: 4399, 1: 1587})\n",
      "Resampled dataset shape Counter({0: 4076, 1: 4076})\n"
     ]
    }
   ],
   "source": [
    "from collections import Counter\n",
    "print('Original dataset shape {}'.format(Counter(Y)))\n",
    "print('Resampled dataset shape {}'.format(Counter(y_res)))"
   ]
  },
  {
   "cell_type": "code",
   "execution_count": 429,
   "metadata": {},
   "outputs": [],
   "source": [
    "X_train, X_test, Y_train, Y_test = train_test_split(X_res,y_res,test_size=0.20, random_state=10)"
   ]
  },
  {
   "cell_type": "markdown",
   "metadata": {},
   "source": [
    "# Logestic Regression"
   ]
  },
  {
   "cell_type": "code",
   "execution_count": 430,
   "metadata": {},
   "outputs": [
    {
     "name": "stdout",
     "output_type": "stream",
     "text": [
      "              precision    recall  f1-score   support\n",
      "\n",
      "           0       0.82      0.81      0.82       802\n",
      "           1       0.82      0.83      0.83       829\n",
      "\n",
      "    accuracy                           0.82      1631\n",
      "   macro avg       0.82      0.82      0.82      1631\n",
      "weighted avg       0.82      0.82      0.82      1631\n",
      "\n"
     ]
    },
    {
     "name": "stderr",
     "output_type": "stream",
     "text": [
      "C:\\Users\\user\\anaconda3\\lib\\site-packages\\sklearn\\linear_model\\_logistic.py:763: ConvergenceWarning: lbfgs failed to converge (status=1):\n",
      "STOP: TOTAL NO. of ITERATIONS REACHED LIMIT.\n",
      "\n",
      "Increase the number of iterations (max_iter) or scale the data as shown in:\n",
      "    https://scikit-learn.org/stable/modules/preprocessing.html\n",
      "Please also refer to the documentation for alternative solver options:\n",
      "    https://scikit-learn.org/stable/modules/linear_model.html#logistic-regression\n",
      "  n_iter_i = _check_optimize_result(\n"
     ]
    }
   ],
   "source": [
    "from sklearn.linear_model import LogisticRegression\n",
    "logistic = LogisticRegression()\n",
    "logistic.fit(X_train, Y_train)\n",
    "prediction_lr = logistic.predict(X_test)\n",
    "print(classification_report(Y_test,prediction_lr))\n"
   ]
  },
  {
   "cell_type": "markdown",
   "metadata": {},
   "source": [
    "# DECISION TREE"
   ]
  },
  {
   "cell_type": "code",
   "execution_count": 431,
   "metadata": {},
   "outputs": [
    {
     "name": "stdout",
     "output_type": "stream",
     "text": [
      "              precision    recall  f1-score   support\n",
      "\n",
      "           0       0.83      0.79      0.81       802\n",
      "           1       0.80      0.84      0.82       829\n",
      "\n",
      "    accuracy                           0.81      1631\n",
      "   macro avg       0.81      0.81      0.81      1631\n",
      "weighted avg       0.81      0.81      0.81      1631\n",
      "\n"
     ]
    }
   ],
   "source": [
    "from sklearn.tree import DecisionTreeClassifier\n",
    "tree = DecisionTreeClassifier()\n",
    "tree.fit(X_train, Y_train)\n",
    "prediction_dt = tree.predict(X_test)\n",
    "print(classification_report(Y_test, prediction_dt))\n"
   ]
  },
  {
   "cell_type": "markdown",
   "metadata": {},
   "source": [
    "# RANDOM FOREST"
   ]
  },
  {
   "cell_type": "code",
   "execution_count": 432,
   "metadata": {},
   "outputs": [
    {
     "name": "stdout",
     "output_type": "stream",
     "text": [
      "              precision    recall  f1-score   support\n",
      "\n",
      "           0       0.87      0.83      0.85       802\n",
      "           1       0.84      0.88      0.86       829\n",
      "\n",
      "    accuracy                           0.86      1631\n",
      "   macro avg       0.86      0.86      0.86      1631\n",
      "weighted avg       0.86      0.86      0.86      1631\n",
      "\n"
     ]
    }
   ],
   "source": [
    "from sklearn.ensemble import RandomForestClassifier\n",
    "forest = RandomForestClassifier()\n",
    "forest.fit(X_train, Y_train)\n",
    "prediction_rf = forest.predict(X_test)\n",
    "print(classification_report(Y_test, prediction_rf))"
   ]
  },
  {
   "cell_type": "code",
   "execution_count": null,
   "metadata": {},
   "outputs": [],
   "source": []
  },
  {
   "cell_type": "code",
   "execution_count": null,
   "metadata": {},
   "outputs": [],
   "source": []
  }
 ],
 "metadata": {
  "kernelspec": {
   "display_name": "Python 3",
   "language": "python",
   "name": "python3"
  },
  "language_info": {
   "codemirror_mode": {
    "name": "ipython",
    "version": 3
   },
   "file_extension": ".py",
   "mimetype": "text/x-python",
   "name": "python",
   "nbconvert_exporter": "python",
   "pygments_lexer": "ipython3",
   "version": "3.8.5"
  }
 },
 "nbformat": 4,
 "nbformat_minor": 4
}
